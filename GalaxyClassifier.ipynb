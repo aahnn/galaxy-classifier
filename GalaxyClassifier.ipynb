{
 "cells": [
  {
   "cell_type": "code",
   "execution_count": 29,
   "metadata": {},
   "outputs": [],
   "source": [
    "import numpy as np\n",
    "from matplotlib import pyplot as plt\n",
    "from sklearn.metrics import confusion_matrix\n",
    "from sklearn.model_selection import cross_val_predict\n",
    "from sklearn.tree import DecisionTreeClassifier"
   ]
  },
  {
   "cell_type": "code",
   "execution_count": 12,
   "metadata": {},
   "outputs": [],
   "source": [
    "data = np.load('galaxy_catalogue.npy')\n",
    "np.random.shuffle(data)\n",
    "\n",
    "# Split data into features and targets\n",
    "targets = data['class']\n",
    "features = np.zeros((len(data), 13))\n",
    "features[:, 0] = data['u-g']\n",
    "features[:, 1] = data['g-r']\n",
    "features[:, 2] = data['r-i']\n",
    "features[:, 3] = data['i-z']\n",
    "features[:, 4] = data['ecc']\n",
    "features[:, 5] = data['m4_u']\n",
    "features[:, 6] = data['m4_g']\n",
    "features[:, 7] = data['m4_r']\n",
    "features[:, 8] = data['m4_i']\n",
    "features[:, 9] = data['m4_z']\n",
    "features[:, 10] = data['petroR50_u'] / data['petroR90_u']\n",
    "features[:, 11] = data['petroR50_r'] / data['petroR90_r']\n",
    "features[:, 12] = data['petroR50_z'] / data['petroR90_z']"
   ]
  },
  {
   "cell_type": "code",
   "execution_count": 31,
   "metadata": {},
   "outputs": [
    {
     "name": "stdout",
     "output_type": "stream",
     "text": [
      "0.812820512821\n"
     ]
    }
   ],
   "source": [
    "# Create and train regression model\n",
    "model = DecisionTreeClassifier()\n",
    "predictions = cross_val_predict(model, features, targets, cv = 10)\n",
    "\n",
    "accuracy = sum(predictions == targets) / len(predictions)\n",
    "print(accuracy)"
   ]
  },
  {
   "cell_type": "code",
   "execution_count": null,
   "metadata": {
    "collapsed": true
   },
   "outputs": [],
   "source": []
  }
 ],
 "metadata": {
  "kernelspec": {
   "display_name": "Python 3",
   "language": "python",
   "name": "python3"
  },
  "language_info": {
   "codemirror_mode": {
    "name": "ipython",
    "version": 3
   },
   "file_extension": ".py",
   "mimetype": "text/x-python",
   "name": "python",
   "nbconvert_exporter": "python",
   "pygments_lexer": "ipython3",
   "version": "3.6.3"
  }
 },
 "nbformat": 4,
 "nbformat_minor": 2
}
