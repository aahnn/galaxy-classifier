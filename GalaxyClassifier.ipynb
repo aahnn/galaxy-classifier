{
 "cells": [
  {
   "cell_type": "code",
   "execution_count": 68,
   "metadata": {},
   "outputs": [],
   "source": [
    "import numpy as np\n",
    "from matplotlib import pyplot as plt\n",
    "from sklearn.metrics import confusion_matrix\n",
    "from sklearn.model_selection import cross_val_predict\n",
    "from sklearn.ensemble import RandomForestClassifier\n",
    "import itertools\n",
    "%matplotlib inline"
   ]
  },
  {
   "cell_type": "code",
   "execution_count": 12,
   "metadata": {},
   "outputs": [],
   "source": [
    "data = np.load('galaxy_catalogue.npy')\n",
    "np.random.shuffle(data)\n",
    "\n",
    "# Split data into features and targets\n",
    "targets = data['class']\n",
    "features = np.zeros((len(data), 13))\n",
    "features[:, 0] = data['u-g']\n",
    "features[:, 1] = data['g-r']\n",
    "features[:, 2] = data['r-i']\n",
    "features[:, 3] = data['i-z']\n",
    "features[:, 4] = data['ecc']\n",
    "features[:, 5] = data['m4_u']\n",
    "features[:, 6] = data['m4_g']\n",
    "features[:, 7] = data['m4_r']\n",
    "features[:, 8] = data['m4_i']\n",
    "features[:, 9] = data['m4_z']\n",
    "features[:, 10] = data['petroR50_u'] / data['petroR90_u']\n",
    "features[:, 11] = data['petroR50_r'] / data['petroR90_r']\n",
    "features[:, 12] = data['petroR50_z'] / data['petroR90_z']"
   ]
  },
  {
   "cell_type": "code",
   "execution_count": 54,
   "metadata": {},
   "outputs": [
    {
     "name": "stdout",
     "output_type": "stream",
     "text": [
      "0.797435897436\n"
     ]
    }
   ],
   "source": [
    "# Create and train regression model\n",
    "model = DecisionTreeClassifier()\n",
    "predictions = cross_val_predict(model, features, targets, cv = 10)\n",
    "\n",
    "accuracy = sum(predictions == targets) / len(predictions)\n",
    "print(accuracy)"
   ]
  },
  {
   "cell_type": "code",
   "execution_count": 55,
   "metadata": {},
   "outputs": [
    {
     "data": {
      "image/png": "[encoded data removed]",
      "text/plain": [
       "<matplotlib.figure.Figure at 0x1a19d77160>"
      ]
     },
     "metadata": {},
     "output_type": "display_data"
    }
   ],
   "source": [
    "# Create confusion matrix\n",
    "labels = list(set(targets))\n",
    "cm = confusion_matrix(y_true = targets, y_pred = predictions, labels = labels)\n",
    "\n",
    "# Plot confusion matrix\n",
    "plt.figure()\n",
    "plt.imshow(cm, interpolation='nearest', cmap=plt.cm.Blues)\n",
    "plt.title('Confusion Matrix')\n",
    "plt.colorbar()\n",
    "tick_marks = np.arange(len(labels))\n",
    "plt.xticks(tick_marks, labels, rotation=45)\n",
    "plt.yticks(tick_marks, labels)\n",
    "\n",
    "fmt = 'd'\n",
    "thresh = cm.max() / 2.\n",
    "for i, j in itertools.product(range(cm.shape[0]), range(cm.shape[1])):\n",
    "    plt.text(j, i, format(cm[i, j], fmt),\n",
    "             horizontalalignment=\"center\",\n",
    "             color=\"white\" if cm[i, j] > thresh else \"black\")\n",
    "\n",
    "plt.tight_layout()\n",
    "plt.ylabel('True class')\n",
    "plt.xlabel('Predicted class')\n",
    "plt.show()"
   ]
  },
  {
   "cell_type": "code",
   "execution_count": null,
   "metadata": {
    "collapsed": true
   },
   "outputs": [],
   "source": [
    "model = RandomForestClassifier(n_estimators = 50)"
   ]
  }
 ],
 "metadata": {
  "kernelspec": {
   "display_name": "Python 3",
   "language": "python",
   "name": "python3"
  },
  "language_info": {
   "codemirror_mode": {
    "name": "ipython",
    "version": 3
   },
   "file_extension": ".py",
   "mimetype": "text/x-python",
   "name": "python",
   "nbconvert_exporter": "python",
   "pygments_lexer": "ipython3",
   "version": "3.6.3"
  }
 },
 "nbformat": 4,
 "nbformat_minor": 2
}
